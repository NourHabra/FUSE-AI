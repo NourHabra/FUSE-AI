{
 "cells": [
  {
   "cell_type": "code",
   "execution_count": 8,
   "metadata": {},
   "outputs": [],
   "source": [
    "from experta import *"
   ]
  },
  {
   "cell_type": "markdown",
   "metadata": {},
   "source": [
    "# Define expense categories and priorities"
   ]
  },
  {
   "cell_type": "code",
   "execution_count": 2,
   "metadata": {},
   "outputs": [],
   "source": [
    "expenses = {\n",
    "    \"Needs\": {\n",
    "        \"Rent/Mortgage\": \"High\",\n",
    "        \"Healthcare\": \"High\",\n",
    "        \"Insurance\": \"High\",\n",
    "        \"Utilities\": \"High\",\n",
    "        \"Food/Groceries\": \"High\",\n",
    "        \"Childcare\": \"High\",\n",
    "    },\n",
    "    \"Wants\": {\n",
    "        \"Transportation\": \"Medium\",\n",
    "        \"Personal Spending\": \"Medium\",\n",
    "        \"Home Goods\": \"Medium\",\n",
    "        \"Clothing\": \"Medium\",\n",
    "        \"Pets\": \"Medium\",\n",
    "        \"Restaurants\": \"Low\",\n",
    "        \"Travel & Entertainment\": \"Low\",\n",
    "        \"Electronics\": \"Low\",\n",
    "        \"Beauty Products\": \"Low\",\n",
    "        \"Services\": \"Low\",\n",
    "        \"Subscriptions\": \"Low\",\n",
    "    },\n",
    "}"
   ]
  },
  {
   "cell_type": "code",
   "execution_count": 4,
   "metadata": {},
   "outputs": [
    {
     "name": "stdout",
     "output_type": "stream",
     "text": [
      "Please enter a valid integer for your income.\n",
      "Please enter a valid integer for your income.\n",
      "Please enter a valid integer for your income.\n",
      "Please enter a valid integer for your income.\n",
      "Please enter a valid integer for your income.\n"
     ]
    },
    {
     "ename": "KeyboardInterrupt",
     "evalue": "Interrupted by user",
     "output_type": "error",
     "traceback": [
      "\u001b[1;31m---------------------------------------------------------------------------\u001b[0m",
      "\u001b[1;31mKeyboardInterrupt\u001b[0m                         Traceback (most recent call last)",
      "Cell \u001b[1;32mIn[4], line 89\u001b[0m\n\u001b[0;32m     86\u001b[0m             \u001b[38;5;28mprint\u001b[39m(\u001b[38;5;124mf\u001b[39m\u001b[38;5;124m\"\u001b[39m\u001b[38;5;124mWarning: You\u001b[39m\u001b[38;5;124m'\u001b[39m\u001b[38;5;124mre spending more than you need to. You\u001b[39m\u001b[38;5;124m'\u001b[39m\u001b[38;5;124mre spending \u001b[39m\u001b[38;5;132;01m{\u001b[39;00mincome\u001b[38;5;250m \u001b[39m\u001b[38;5;241m-\u001b[39m\u001b[38;5;250m \u001b[39mcurrent_savings\u001b[38;5;132;01m}\u001b[39;00m\u001b[38;5;124m while you need to save \u001b[39m\u001b[38;5;132;01m{\u001b[39;00mtarget_savings\u001b[38;5;132;01m}\u001b[39;00m\u001b[38;5;124m.\u001b[39m\u001b[38;5;124m\"\u001b[39m)\n\u001b[0;32m     88\u001b[0m engine \u001b[38;5;241m=\u001b[39m Budget()\n\u001b[1;32m---> 89\u001b[0m \u001b[43mengine\u001b[49m\u001b[38;5;241;43m.\u001b[39;49m\u001b[43mreset\u001b[49m\u001b[43m(\u001b[49m\u001b[43m)\u001b[49m\n\u001b[0;32m     90\u001b[0m engine\u001b[38;5;241m.\u001b[39mrun()\n",
      "File \u001b[1;32mc:\\Users\\ASUS\\AppData\\Local\\Programs\\Python\\Python312\\Lib\\site-packages\\experta\\engine.py:208\u001b[0m, in \u001b[0;36mKnowledgeEngine.reset\u001b[1;34m(self, **kwargs)\u001b[0m\n\u001b[0;32m    205\u001b[0m         deffacts\u001b[38;5;241m.\u001b[39mappend(deffact(\u001b[38;5;241m*\u001b[39m\u001b[38;5;241m*\u001b[39mkwargs))\n\u001b[0;32m    207\u001b[0m \u001b[38;5;66;03m# Declare all facts yielded by deffacts\u001b[39;00m\n\u001b[1;32m--> 208\u001b[0m \u001b[38;5;28;43mself\u001b[39;49m\u001b[38;5;241;43m.\u001b[39;49m\u001b[43m__declare\u001b[49m\u001b[43m(\u001b[49m\u001b[38;5;241;43m*\u001b[39;49m\u001b[43mchain\u001b[49m\u001b[38;5;241;43m.\u001b[39;49m\u001b[43mfrom_iterable\u001b[49m\u001b[43m(\u001b[49m\u001b[43mdeffacts\u001b[49m\u001b[43m)\u001b[49m\u001b[43m)\u001b[49m\n\u001b[0;32m    210\u001b[0m \u001b[38;5;28mself\u001b[39m\u001b[38;5;241m.\u001b[39mrunning \u001b[38;5;241m=\u001b[39m \u001b[38;5;28;01mFalse\u001b[39;00m\n",
      "File \u001b[1;32mc:\\Users\\ASUS\\AppData\\Local\\Programs\\Python\\Python312\\Lib\\site-packages\\experta\\deffacts.py:39\u001b[0m, in \u001b[0;36m<genexpr>\u001b[1;34m(.0)\u001b[0m\n\u001b[0;32m     37\u001b[0m     \u001b[38;5;28;01melse\u001b[39;00m:\n\u001b[0;32m     38\u001b[0m         gen \u001b[38;5;241m=\u001b[39m \u001b[38;5;28mself\u001b[39m\u001b[38;5;241m.\u001b[39m_wrapped(\u001b[38;5;28mself\u001b[39m\u001b[38;5;241m.\u001b[39m_wrapped_self, \u001b[38;5;241m*\u001b[39margs, \u001b[38;5;241m*\u001b[39m\u001b[38;5;241m*\u001b[39mkwargs)\n\u001b[1;32m---> 39\u001b[0m     \u001b[38;5;28;01mreturn\u001b[39;00m \u001b[43m(\u001b[49m\u001b[43mx\u001b[49m\u001b[38;5;241;43m.\u001b[39;49m\u001b[43mcopy\u001b[49m\u001b[43m(\u001b[49m\u001b[43m)\u001b[49m\u001b[43m \u001b[49m\u001b[38;5;28;43;01mfor\u001b[39;49;00m\u001b[43m \u001b[49m\u001b[43mx\u001b[49m\u001b[43m \u001b[49m\u001b[38;5;129;43;01min\u001b[39;49;00m\u001b[43m \u001b[49m\u001b[43mgen\u001b[49m\u001b[43m)\u001b[49m\n\u001b[0;32m     40\u001b[0m \u001b[38;5;28;01melif\u001b[39;00m \u001b[38;5;129;01mnot\u001b[39;00m args:\n\u001b[0;32m     41\u001b[0m     \u001b[38;5;28;01mraise\u001b[39;00m \u001b[38;5;167;01mRuntimeError\u001b[39;00m(\u001b[38;5;124m\"\u001b[39m\u001b[38;5;124mUsage error.\u001b[39m\u001b[38;5;124m\"\u001b[39m)\n",
      "Cell \u001b[1;32mIn[4], line 6\u001b[0m, in \u001b[0;36mBudget.initial_facts\u001b[1;34m(self)\u001b[0m\n\u001b[0;32m      4\u001b[0m \u001b[38;5;28;01mwhile\u001b[39;00m \u001b[38;5;28;01mTrue\u001b[39;00m:\n\u001b[0;32m      5\u001b[0m     \u001b[38;5;28;01mtry\u001b[39;00m:\n\u001b[1;32m----> 6\u001b[0m         income \u001b[38;5;241m=\u001b[39m \u001b[38;5;28mint\u001b[39m(\u001b[38;5;28;43minput\u001b[39;49m\u001b[43m(\u001b[49m\u001b[38;5;124;43m\"\u001b[39;49m\u001b[38;5;124;43mEnter your monthly income: \u001b[39;49m\u001b[38;5;124;43m\"\u001b[39;49m\u001b[43m)\u001b[49m)\n\u001b[0;32m      7\u001b[0m         \u001b[38;5;28;01mbreak\u001b[39;00m\n\u001b[0;32m      8\u001b[0m     \u001b[38;5;28;01mexcept\u001b[39;00m \u001b[38;5;167;01mValueError\u001b[39;00m:\n",
      "File \u001b[1;32m~\\AppData\\Roaming\\Python\\Python312\\site-packages\\ipykernel\\kernelbase.py:1282\u001b[0m, in \u001b[0;36mKernel.raw_input\u001b[1;34m(self, prompt)\u001b[0m\n\u001b[0;32m   1280\u001b[0m     msg \u001b[38;5;241m=\u001b[39m \u001b[38;5;124m\"\u001b[39m\u001b[38;5;124mraw_input was called, but this frontend does not support input requests.\u001b[39m\u001b[38;5;124m\"\u001b[39m\n\u001b[0;32m   1281\u001b[0m     \u001b[38;5;28;01mraise\u001b[39;00m StdinNotImplementedError(msg)\n\u001b[1;32m-> 1282\u001b[0m \u001b[38;5;28;01mreturn\u001b[39;00m \u001b[38;5;28;43mself\u001b[39;49m\u001b[38;5;241;43m.\u001b[39;49m\u001b[43m_input_request\u001b[49m\u001b[43m(\u001b[49m\n\u001b[0;32m   1283\u001b[0m \u001b[43m    \u001b[49m\u001b[38;5;28;43mstr\u001b[39;49m\u001b[43m(\u001b[49m\u001b[43mprompt\u001b[49m\u001b[43m)\u001b[49m\u001b[43m,\u001b[49m\n\u001b[0;32m   1284\u001b[0m \u001b[43m    \u001b[49m\u001b[38;5;28;43mself\u001b[39;49m\u001b[38;5;241;43m.\u001b[39;49m\u001b[43m_parent_ident\u001b[49m\u001b[43m[\u001b[49m\u001b[38;5;124;43m\"\u001b[39;49m\u001b[38;5;124;43mshell\u001b[39;49m\u001b[38;5;124;43m\"\u001b[39;49m\u001b[43m]\u001b[49m\u001b[43m,\u001b[49m\n\u001b[0;32m   1285\u001b[0m \u001b[43m    \u001b[49m\u001b[38;5;28;43mself\u001b[39;49m\u001b[38;5;241;43m.\u001b[39;49m\u001b[43mget_parent\u001b[49m\u001b[43m(\u001b[49m\u001b[38;5;124;43m\"\u001b[39;49m\u001b[38;5;124;43mshell\u001b[39;49m\u001b[38;5;124;43m\"\u001b[39;49m\u001b[43m)\u001b[49m\u001b[43m,\u001b[49m\n\u001b[0;32m   1286\u001b[0m \u001b[43m    \u001b[49m\u001b[43mpassword\u001b[49m\u001b[38;5;241;43m=\u001b[39;49m\u001b[38;5;28;43;01mFalse\u001b[39;49;00m\u001b[43m,\u001b[49m\n\u001b[0;32m   1287\u001b[0m \u001b[43m\u001b[49m\u001b[43m)\u001b[49m\n",
      "File \u001b[1;32m~\\AppData\\Roaming\\Python\\Python312\\site-packages\\ipykernel\\kernelbase.py:1325\u001b[0m, in \u001b[0;36mKernel._input_request\u001b[1;34m(self, prompt, ident, parent, password)\u001b[0m\n\u001b[0;32m   1322\u001b[0m \u001b[38;5;28;01mexcept\u001b[39;00m \u001b[38;5;167;01mKeyboardInterrupt\u001b[39;00m:\n\u001b[0;32m   1323\u001b[0m     \u001b[38;5;66;03m# re-raise KeyboardInterrupt, to truncate traceback\u001b[39;00m\n\u001b[0;32m   1324\u001b[0m     msg \u001b[38;5;241m=\u001b[39m \u001b[38;5;124m\"\u001b[39m\u001b[38;5;124mInterrupted by user\u001b[39m\u001b[38;5;124m\"\u001b[39m\n\u001b[1;32m-> 1325\u001b[0m     \u001b[38;5;28;01mraise\u001b[39;00m \u001b[38;5;167;01mKeyboardInterrupt\u001b[39;00m(msg) \u001b[38;5;28;01mfrom\u001b[39;00m \u001b[38;5;28;01mNone\u001b[39;00m\n\u001b[0;32m   1326\u001b[0m \u001b[38;5;28;01mexcept\u001b[39;00m \u001b[38;5;167;01mException\u001b[39;00m:\n\u001b[0;32m   1327\u001b[0m     \u001b[38;5;28mself\u001b[39m\u001b[38;5;241m.\u001b[39mlog\u001b[38;5;241m.\u001b[39mwarning(\u001b[38;5;124m\"\u001b[39m\u001b[38;5;124mInvalid Message:\u001b[39m\u001b[38;5;124m\"\u001b[39m, exc_info\u001b[38;5;241m=\u001b[39m\u001b[38;5;28;01mTrue\u001b[39;00m)\n",
      "\u001b[1;31mKeyboardInterrupt\u001b[0m: Interrupted by user"
     ]
    }
   ],
   "source": [
    "class Budget(KnowledgeEngine):\n",
    "    @DefFacts()\n",
    "    def initial_facts(self):\n",
    "        while True:\n",
    "            try:\n",
    "                income = int(input(\"Enter your monthly income: \"))\n",
    "                break\n",
    "            except ValueError:\n",
    "                print(\"Please enter a valid integer for your income.\")\n",
    "        \n",
    "        yield Fact(income=income)\n",
    "        yield Fact(expenses_entered=0)  # Initialize counter for entered expenses\n",
    "        for category, items in expenses.items():\n",
    "            for expense, priority in items.items():\n",
    "                yield Fact(expense=expense, category=category, priority=priority, amount=0)\n",
    "\n",
    "    @Rule(Fact(expense=MATCH.e, category=MATCH.c, priority=MATCH.p, amount=0))\n",
    "    def ask_expense_amount(self, e, c, p):\n",
    "        answer = input(f\"Did you spend money on {e}? (yes/no): \")\n",
    "        if answer.lower() == \"yes\":\n",
    "            self.declare(Fact(acknowledged_expense=e))\n",
    "        else:\n",
    "            self.declare(Fact(expense_skipped=e))\n",
    "\n",
    "    @Rule(Fact(acknowledged_expense=MATCH.e))\n",
    "    def prompt_expense_amount(self, e):\n",
    "        amount_str = input(f\"Enter amount spent on {e}: \")\n",
    "        self.declare(Fact(amount_entered=e, amount_str=amount_str))\n",
    "\n",
    "    @Rule(Fact(amount_entered=MATCH.e, amount_str=MATCH.a_str))\n",
    "    def validate_expense_amount(self, e, a_str):\n",
    "        try:\n",
    "            amount = int(a_str)\n",
    "            self.declare(Fact(validated_expense=e, amount=amount))\n",
    "        except ValueError:\n",
    "            print(\"Please enter a valid integer for the amount.\")\n",
    "            self.retract(Fact(amount_entered=e, amount_str=a_str))\n",
    "            self.declare(Fact(acknowledged_expense=e))\n",
    "\n",
    "    @Rule(Fact(validated_expense=MATCH.e, amount=MATCH.a))\n",
    "    def update_expense_amount(self, e, a):\n",
    "        for fact in self.facts.values():\n",
    "            if fact.get('expense') == e:\n",
    "                self.modify(fact, amount=a)\n",
    "                break\n",
    "        self.increment_expenses_entered()\n",
    "\n",
    "    @Rule(Fact(expense_skipped=MATCH.e))\n",
    "    def increment_skipped_expense(self, e):\n",
    "        self.increment_expenses_entered()\n",
    "\n",
    "    def increment_expenses_entered(self):\n",
    "        self.expenses_entered += 1\n",
    "        self.modify(self.facts[self.facts.keys()[0]], expenses_entered=self.expenses_entered)\n",
    "\n",
    "\n",
    "    def print_expense_breakdown(self, income):\n",
    "        total_expenses = sum(fact['amount'] for fact in self.facts.values() if 'amount' in fact)\n",
    "        for fact in self.facts.values():\n",
    "            if 'amount' in fact:\n",
    "                percent = (fact['amount'] / income) * 100\n",
    "                print(f\"{fact['expense']}: {fact['amount']:.2f} ({percent:.2f}%)\")\n",
    "        needs_percent = sum(fact['amount'] for fact in self.facts.values() if fact.get('category') == \"Needs\") / income * 100\n",
    "        wants_percent = sum(fact['amount'] for fact in self.facts.values() if fact.get('category') == \"Wants\") / income * 100\n",
    "        print(f\"Needs: {needs_percent:.2f}%\")\n",
    "        print(f\"Wants: {wants_percent:.2f}%\")\n",
    "\n",
    "    def adjust_spending(self, income, current_savings):\n",
    "        target_savings = income * 0.2  # Aim for 20% savings\n",
    "        deficit = target_savings - current_savings\n",
    "\n",
    "        # Iterate through expenses in descending order of priority (Wants -> Needs)\n",
    "        for category in [\"Wants\", \"Needs\"]:\n",
    "            for fact in sorted(self.facts.values(), key=lambda x: x.get('priority', ''), reverse=True):\n",
    "                if fact.get('category') == category and deficit > 0:\n",
    "                    reduction = min(deficit, fact['amount'])  # Reduce by minimum of deficit or expense amount\n",
    "                    if reduction > 0:\n",
    "                        deficit -= reduction\n",
    "                        new_amount = fact['amount'] - reduction\n",
    "                        print(f\"Suggestion: Reduce spending on {fact['expense']} by {reduction:.2f}. New amount: {new_amount:.2f}\")\n",
    "                        self.modify(fact, amount=new_amount)\n",
    "                    if deficit <= 0:\n",
    "                        break\n",
    "\n",
    "        if deficit > 0:\n",
    "            print(f\"Warning: You're spending more than you need to. You're spending {income - current_savings} while you need to save {target_savings}.\")\n",
    "\n",
    "engine = Budget()\n",
    "engine.reset()\n",
    "engine.run()"
   ]
  }
 ],
 "metadata": {
  "kernelspec": {
   "display_name": "Python 3",
   "language": "python",
   "name": "python3"
  },
  "language_info": {
   "codemirror_mode": {
    "name": "ipython",
    "version": 3
   },
   "file_extension": ".py",
   "mimetype": "text/x-python",
   "name": "python",
   "nbconvert_exporter": "python",
   "pygments_lexer": "ipython3",
   "version": "3.12.2"
  }
 },
 "nbformat": 4,
 "nbformat_minor": 2
}
